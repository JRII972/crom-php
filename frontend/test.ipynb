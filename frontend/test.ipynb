{
 "cells": [
  {
   "cell_type": "code",
   "execution_count": 7,
   "id": "d2957f79",
   "metadata": {},
   "outputs": [
    {
     "name": "stdout",
     "output_type": "stream",
     "text": [
      "\n",
      "<!DOCTYPE html>\n",
      "<html>\n",
      "<head>\n",
      "<title>Gestion de la D&eacute;connexion</title>\n",
      "<meta http-equiv='Content-Type' content='text/html; charset=UFT-8'>\n",
      "<link rel='stylesheet' href='styles.css'>\n",
      "</head>\n",
      "<body>\n",
      "<CENTER>\n",
      "\n",
      "<table BORDER='0' CELLSPACING='0' CELLPADDING='0' WIDTH='100%'>\n",
      "<tr align='center'>\n",
      "<td WIDTH='3%'></td>\n",
      "<td><span class='version'>Version 3.3.1<span></b></td>\n",
      "<td WIDTH='3%'></td>\n",
      "<td rowspan='2'><img style='width: 700px; height: 77px;'\n",
      " alt='Calendrier R&ocirc;liste &agrave; Options Multiples'\n",
      " src='images/Logo-crom.png'></td>\n",
      "<td WIDTH='3%'></td>\n",
      "<td><span class='version'>Nous sommes le<span></td>\n",
      "<td WIDTH='3%'></td>\n",
      "</tr>\n",
      "<tr align='center'>\n",
      "<td WIDTH='3%'></td>\n",
      "<td><span class='version'>Janvier 2025</span></td>\n",
      "<td WIDTH='3%'></td>\n",
      "<td WIDTH='3%'></td>\n",
      "<td><span class=\"version\">\n",
      "dimanche 18/05/2025<span></td>\n",
      "<td WIDTH='3%'></td>\n",
      "</tr>\n",
      "</table>\n",
      "<P><HR WIDTH='60%'></P>\n",
      "<br><p align='center'><span class='erreur'>Erreur de connexion !!! Aucune session n&apos;est ouverte </span><br><span class='erreur'>Vous n&apos;avez pas les droits pour acc&eacute;der &agrave; cette page</span></p>\n",
      "<form action='index.php' method='POST'>\n",
      "<button type='submit'>Affichage des parties</button>    \n",
      "</form>\n",
      "</body>\n",
      "</html>\n",
      "\n",
      "\n"
     ]
    }
   ],
   "source": [
    "import requests\n",
    "\n",
    "url = \"http://lbdr.fr/crom/gestionparties.php\"  # Remplacez par l'URL cible\n",
    "data = {\n",
    "    \"numpart\": 4021,\n",
    "    # \"action\": \"valider\",\n",
    "    # \"status\": \"evex\"\n",
    "}\n",
    "\n",
    "response = requests.post(url, data=data)\n",
    "html_content = response.text\n",
    "\n",
    "print(html_content)"
   ]
  },
  {
   "cell_type": "code",
   "execution_count": 8,
   "id": "a613965e",
   "metadata": {},
   "outputs": [
    {
     "data": {
      "text/html": [
       "\n",
       "<!DOCTYPE html>\n",
       "<html>\n",
       "<head>\n",
       "<title>Gestion de la D&eacute;connexion</title>\n",
       "<meta http-equiv='Content-Type' content='text/html; charset=UFT-8'>\n",
       "<link rel='stylesheet' href='styles.css'>\n",
       "</head>\n",
       "<body>\n",
       "<CENTER>\n",
       "\n",
       "<table BORDER='0' CELLSPACING='0' CELLPADDING='0' WIDTH='100%'>\n",
       "<tr align='center'>\n",
       "<td WIDTH='3%'></td>\n",
       "<td><span class='version'>Version 3.3.1<span></b></td>\n",
       "<td WIDTH='3%'></td>\n",
       "<td rowspan='2'><img style='width: 700px; height: 77px;'\n",
       " alt='Calendrier R&ocirc;liste &agrave; Options Multiples'\n",
       " src='images/Logo-crom.png'></td>\n",
       "<td WIDTH='3%'></td>\n",
       "<td><span class='version'>Nous sommes le<span></td>\n",
       "<td WIDTH='3%'></td>\n",
       "</tr>\n",
       "<tr align='center'>\n",
       "<td WIDTH='3%'></td>\n",
       "<td><span class='version'>Janvier 2025</span></td>\n",
       "<td WIDTH='3%'></td>\n",
       "<td WIDTH='3%'></td>\n",
       "<td><span class=\"version\">\n",
       "dimanche 18/05/2025<span></td>\n",
       "<td WIDTH='3%'></td>\n",
       "</tr>\n",
       "</table>\n",
       "<P><HR WIDTH='60%'></P>\n",
       "<br><p align='center'><span class='erreur'>Erreur de connexion !!! Aucune session n&apos;est ouverte </span><br><span class='erreur'>Vous n&apos;avez pas les droits pour acc&eacute;der &agrave; cette page</span></p>\n",
       "<form action='index.php' method='POST'>\n",
       "<button type='submit'>Affichage des parties</button>    \n",
       "</form>\n",
       "</body>\n",
       "</html>\n",
       "\n"
      ],
      "text/plain": [
       "<IPython.core.display.HTML object>"
      ]
     },
     "metadata": {},
     "output_type": "display_data"
    }
   ],
   "source": [
    "from IPython.display import display, HTML\n",
    "display(HTML(html_content))"
   ]
  }
 ],
 "metadata": {
  "kernelspec": {
   "display_name": "Python 3",
   "language": "python",
   "name": "python3"
  },
  "language_info": {
   "codemirror_mode": {
    "name": "ipython",
    "version": 3
   },
   "file_extension": ".py",
   "mimetype": "text/x-python",
   "name": "python",
   "nbconvert_exporter": "python",
   "pygments_lexer": "ipython3",
   "version": "3.13.3"
  }
 },
 "nbformat": 4,
 "nbformat_minor": 5
}
